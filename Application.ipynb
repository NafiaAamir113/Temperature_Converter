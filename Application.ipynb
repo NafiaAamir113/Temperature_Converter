{
  "nbformat": 4,
  "nbformat_minor": 0,
  "metadata": {
    "colab": {
      "provenance": [],
      "authorship_tag": "ABX9TyN+gErELr8k4pjd2oeAH+VP",
      "include_colab_link": true
    },
    "kernelspec": {
      "name": "python3",
      "display_name": "Python 3"
    },
    "language_info": {
      "name": "python"
    }
  },
  "cells": [
    {
      "cell_type": "markdown",
      "metadata": {
        "id": "view-in-github",
        "colab_type": "text"
      },
      "source": [
        "<a href=\"https://colab.research.google.com/github/NafiaAamir113/Temperature_Converter/blob/main/Application.ipynb\" target=\"_parent\"><img src=\"https://colab.research.google.com/assets/colab-badge.svg\" alt=\"Open In Colab\"/></a>"
      ]
    },
    {
      "cell_type": "markdown",
      "source": [
        "# **Temperature Converter**"
      ],
      "metadata": {
        "id": "uV5iivLv0W4K"
      }
    },
    {
      "cell_type": "code",
      "source": [
        "# Function to convert Celsius to Fahrenheit\n",
        "def celsius_to_fahrenheit(celsius):\n",
        "    return (celsius * 9/5) + 32\n",
        "\n",
        "# Function to convert Fahrenheit to Celsius\n",
        "def fahrenheit_to_celsius(fahrenheit):\n",
        "    return (fahrenheit - 32) * 5/9\n",
        "\n",
        "# Main program\n",
        "def main():\n",
        "    print(\"Welcome to the Temperature Converter!\")\n",
        "    print(\"Choose an option:\")\n",
        "    print(\"1. Convert Celsius to Fahrenheit\")\n",
        "    print(\"2. Convert Fahrenheit to Celsius\")\n",
        "\n",
        "    try:\n",
        "        choice = int(input(\"Enter your choice (1 or 2): \"))\n",
        "\n",
        "        if choice == 1:\n",
        "            celsius = float(input(\"Enter temperature in Celsius: \"))\n",
        "            fahrenheit = celsius_to_fahrenheit(celsius)\n",
        "            print(f\"{celsius}°C is equal to {fahrenheit:.2f}°F.\")\n",
        "\n",
        "        elif choice == 2:\n",
        "            fahrenheit = float(input(\"Enter temperature in Fahrenheit: \"))\n",
        "            celsius = fahrenheit_to_celsius(fahrenheit)\n",
        "            print(f\"{fahrenheit}°F is equal to {celsius:.2f}°C.\")\n",
        "\n",
        "        else:\n",
        "            print(\"Invalid choice. Please enter 1 or 2.\")\n",
        "\n",
        "    except ValueError:\n",
        "        print(\"Invalid input. Please enter a number.\")\n",
        "\n",
        "# Run the program\n",
        "if __name__ == \"__main__\":\n",
        "    main()\n"
      ],
      "metadata": {
        "colab": {
          "base_uri": "https://localhost:8080/"
        },
        "id": "cod9n_UB11_3",
        "outputId": "55f12891-b403-4fd7-e886-c5b2053c1dbd"
      },
      "execution_count": 1,
      "outputs": [
        {
          "output_type": "stream",
          "name": "stdout",
          "text": [
            "Welcome to the Temperature Converter!\n",
            "Choose an option:\n",
            "1. Convert Celsius to Fahrenheit\n",
            "2. Convert Fahrenheit to Celsius\n",
            "Enter your choice (1 or 2): 1\n",
            "Enter temperature in Celsius: 34\n",
            "34.0°C is equal to 93.20°F.\n"
          ]
        }
      ]
    }
  ]
}